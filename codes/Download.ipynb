{
 "cells": [
  {
   "cell_type": "code",
   "execution_count": 35,
   "metadata": {},
   "outputs": [],
   "source": [
    "import requests \n",
    "import os\n",
    "import pandas as pd"
   ]
  },
  {
   "cell_type": "code",
   "execution_count": 52,
   "metadata": {},
   "outputs": [],
   "source": [
    "frequence = 15\n",
    "num_files = frequence\n",
    "symbol = 'BA'\n",
    "\n",
    "for i in range(10,num_files):\n",
    "    url = 'https://www.alphavantage.co/query?function=TIME_SERIES_INTRADAY_EXTENDED&symbol='+ symbol + '&interval='+str(frequence)+'min&slice=year'+str(i//12+1)+'month'+str(i%12+1)+'&apikey=F4FKIPCBSMDP51Q8&adjusted=false' \n",
    "    r = requests.get(url)\n",
    "    fileName = '.\\\\'+symbol+'\\\\'+str(frequence)+'min\\\\' +symbol+ 'f'+str(frequence)+'year'+str(i//12+1)+'month'+str(i%12+1)+'.csv'\n",
    "    with open(fileName, \"wb\") as code:\n",
    "            code.write(r.content)"
   ]
  },
  {
   "cell_type": "code",
   "execution_count": 54,
   "metadata": {},
   "outputs": [],
   "source": [
    "symbol = 'BA'\n",
    "frequence = 15\n",
    "\n",
    "pathName = 'D:\\Program\\Python\\MSM\\\\'+symbol+'\\\\'+str(frequence)+'min\\\\'\n",
    "\n",
    "file_list = []\n",
    "for file in os.listdir(pathName):\n",
    "    df = pd.read_csv(pathName + file)\n",
    "    file_list.append(df)\n",
    "\n",
    "result = pd.concat(file_list)   # 合并文件\n",
    "result.to_csv(pathName + 'merge_res.csv', index=False, encoding='gbk')  # 保存合并后的文件\n"
   ]
  }
 ],
 "metadata": {
  "kernelspec": {
   "display_name": "Python 3",
   "language": "python",
   "name": "python3"
  },
  "language_info": {
   "codemirror_mode": {
    "name": "ipython",
    "version": 3
   },
   "file_extension": ".py",
   "mimetype": "text/x-python",
   "name": "python",
   "nbconvert_exporter": "python",
   "pygments_lexer": "ipython3",
   "version": "3.8.5"
  }
 },
 "nbformat": 4,
 "nbformat_minor": 4
}
