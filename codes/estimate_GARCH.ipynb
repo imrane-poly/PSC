{
 "cells": [
  {
   "cell_type": "markdown",
   "metadata": {},
   "source": [
    "## Initial Setting"
   ]
  },
  {
   "cell_type": "code",
   "execution_count": 28,
   "metadata": {},
   "outputs": [],
   "source": [
    "import numpy as np\n",
    "import pandas as pd\n",
    "import msm\n",
    "import sklearn.metrics\n",
    "from simulatedata import simulatedata\n",
    "from simulatedata_initial_state import simulatedata_with_initial_prob\n",
    "from tqdm.notebook import tqdm\n",
    "\n",
    "from simulategarchdata import simulategarchdata\n",
    "from arch import arch_model\n",
    "from random import gauss"
   ]
  },
  {
   "cell_type": "markdown",
   "metadata": {},
   "source": [
    "## Data Selection"
   ]
  },
  {
   "cell_type": "markdown",
   "metadata": {},
   "source": [
    "### Pour DEXJPUS.csv"
   ]
  },
  {
   "cell_type": "code",
   "execution_count": 170,
   "metadata": {},
   "outputs": [
    {
     "data": {
      "text/plain": [
       "((4379, 1), (2919, 1))"
      ]
     },
     "execution_count": 170,
     "metadata": {},
     "output_type": "execute_result"
    }
   ],
   "source": [
    "dat2 = pd.read_csv(\"DEXJPUS.csv\")                                   \n",
    "dat2 = dat2.loc[dat2.DEXJPUS != \".\"].DEXJPUS.astype(float)\n",
    "dat2 = np.array(dat2)\n",
    "dat2_rtn = dat2[0:-1]\n",
    "dat2 = np.log(dat2[1:])-np.log(dat2[0:-1])\n",
    "#dat2 = dat2[dat2 != 0]\n",
    "dat2 = dat2[:,np.newaxis]\n",
    "dat2_rtn = dat2_rtn[:,np.newaxis]\n",
    "T = len(dat2)\n",
    "E = np.rint(0.6*T).astype(int)\n",
    "dat2E = dat2[0:E,]\n",
    "dat2F = dat2[E:,]\n",
    "dat2_rtnE = dat2_rtn[0:E,]\n",
    "dat2_rtnF = dat2_rtn[E:,]\n",
    "dat2E.shape, dat2F.shape"
   ]
  },
  {
   "cell_type": "markdown",
   "metadata": {},
   "source": [
    "### Pour IBM et BA"
   ]
  },
  {
   "cell_type": "code",
   "execution_count": 162,
   "metadata": {},
   "outputs": [
    {
     "data": {
      "text/plain": [
       "((7120, 1), (4747, 1))"
      ]
     },
     "execution_count": 162,
     "metadata": {},
     "output_type": "execute_result"
    }
   ],
   "source": [
    "symbol = \"BA\"\n",
    "frequence = 15\n",
    "\n",
    "\n",
    "pathName = 'C:\\\\users\\\\hp\\\\MSM_dossier_sheng\\\\'+symbol+'\\\\'+str(frequence)+'min\\\\'\n",
    "\n",
    "dat2 = pd.read_csv(pathName + \"merge_res.csv\")\n",
    "dat2 = dat2.sort_values(\"time\",ascending=True)\n",
    "dat2 = dat2.loc[dat2.close != \".\"].close.astype(float)\n",
    "dat2 = np.array(dat2)\n",
    "dat2_rtn = dat2[0:-1]\n",
    "dat2 = np.log(dat2[1:])-np.log(dat2[0:-1])\n",
    "#dat2 = dat2[dat2 != 0]\n",
    "dat2 = dat2[:,np.newaxis]\n",
    "dat2_rtn = dat2_rtn[:,np.newaxis]\n",
    "T = len(dat2)\n",
    "E = np.rint(0.6*T).astype(int)\n",
    "dat2E = dat2[0:E,]\n",
    "dat2F = dat2[E:,]\n",
    "dat2_rtnE = dat2_rtn[0:E,]\n",
    "dat2_rtnF = dat2_rtn[E:,]\n",
    "dat2E.shape, dat2F.shape"
   ]
  },
  {
   "cell_type": "code",
   "execution_count": 33,
   "metadata": {},
   "outputs": [],
   "source": [
    "def r2p(p,y_pred,delta):\n",
    "    P = np.zeros(y_pred.shape)\n",
    "    P = P[delta:]\n",
    "    for i in range(P.shape[0]):\n",
    "        P[i,0] = p[i,0]\n",
    "        for k in range(delta):\n",
    "            P[i,0]*=np.exp(y_pred[i+k,0])\n",
    "    return P"
   ]
  },
  {
   "cell_type": "markdown",
   "metadata": {},
   "source": [
    "## Estimate Garch paramaters"
   ]
  },
  {
   "cell_type": "code",
   "execution_count": 171,
   "metadata": {},
   "outputs": [
    {
     "name": "stdout",
     "output_type": "stream",
     "text": [
      "Iteration:      1,   Func. Count:      6,   Neg. LLF: 21288.275576832926\n",
      "Iteration:      2,   Func. Count:     13,   Neg. LLF: 2450065.571035227\n",
      "Iteration:      3,   Func. Count:     20,   Neg. LLF: 14551.875155735073\n",
      "Iteration:      4,   Func. Count:     27,   Neg. LLF: 13626.99135225594\n",
      "Iteration:      5,   Func. Count:     32,   Neg. LLF: 13625.47252207527\n",
      "Iteration:      6,   Func. Count:     37,   Neg. LLF: 13624.65743170582\n",
      "Iteration:      7,   Func. Count:     42,   Neg. LLF: 13624.684456121257\n",
      "Iteration:      8,   Func. Count:     48,   Neg. LLF: 13624.63492627448\n",
      "Iteration:      9,   Func. Count:     53,   Neg. LLF: 13624.634920658697\n",
      "Iteration:     10,   Func. Count:     58,   Neg. LLF: 13624.634910484718\n",
      "Iteration:     11,   Func. Count:     62,   Neg. LLF: 13624.634903205242\n",
      "Optimization terminated successfully    (Exit mode 0)\n",
      "            Current function value: 13624.634910484718\n",
      "            Iterations: 15\n",
      "            Function evaluations: 62\n",
      "            Gradient evaluations: 11\n"
     ]
    },
    {
     "data": {
      "text/html": [
       "<table class=\"simpletable\">\n",
       "<caption>Constant Mean - GARCH Model Results</caption>\n",
       "<tr>\n",
       "  <th>Dep. Variable:</th>          <td>y</td>         <th>  R-squared:         </th>  <td>   0.000</td> \n",
       "</tr>\n",
       "<tr>\n",
       "  <th>Mean Model:</th>       <td>Constant Mean</td>   <th>  Adj. R-squared:    </th>  <td>   0.000</td> \n",
       "</tr>\n",
       "<tr>\n",
       "  <th>Vol Model:</th>            <td>GARCH</td>       <th>  Log-Likelihood:    </th> <td>  -13624.6</td>\n",
       "</tr>\n",
       "<tr>\n",
       "  <th>Distribution:</th>        <td>Normal</td>       <th>  AIC:               </th> <td>   27257.3</td>\n",
       "</tr>\n",
       "<tr>\n",
       "  <th>Method:</th>        <td>Maximum Likelihood</td> <th>  BIC:               </th> <td>   27282.8</td>\n",
       "</tr>\n",
       "<tr>\n",
       "  <th></th>                        <td></td>          <th>  No. Observations:  </th>    <td>4379</td>   \n",
       "</tr>\n",
       "<tr>\n",
       "  <th>Date:</th>           <td>Sat, Apr 23 2022</td>  <th>  Df Residuals:      </th>    <td>4378</td>   \n",
       "</tr>\n",
       "<tr>\n",
       "  <th>Time:</th>               <td>13:07:22</td>      <th>  Df Model:          </th>      <td>1</td>    \n",
       "</tr>\n",
       "</table>\n",
       "<table class=\"simpletable\">\n",
       "<caption>Mean Model</caption>\n",
       "<tr>\n",
       "   <td></td>     <th>coef</th>     <th>std err</th>      <th>t</th>       <th>P>|t|</th>    <th>95.0% Conf. Int.</th>  \n",
       "</tr>\n",
       "<tr>\n",
       "  <th>mu</th> <td>   -0.0259</td> <td>6.143e-02</td> <td>   -0.421</td> <td>    0.674</td> <td>[ -0.146,9.452e-02]</td>\n",
       "</tr>\n",
       "</table>\n",
       "<table class=\"simpletable\">\n",
       "<caption>Volatility Model</caption>\n",
       "<tr>\n",
       "      <td></td>        <th>coef</th>     <th>std err</th>      <th>t</th>       <th>P>|t|</th>    <th>95.0% Conf. Int.</th>  \n",
       "</tr>\n",
       "<tr>\n",
       "  <th>omega</th>    <td>    0.5873</td> <td>    0.471</td> <td>    1.246</td> <td>    0.213</td>  <td>[ -0.336,  1.511]</td> \n",
       "</tr>\n",
       "<tr>\n",
       "  <th>alpha[1]</th> <td>    0.1405</td> <td>6.056e-02</td> <td>    2.320</td> <td>2.033e-02</td> <td>[2.181e-02,  0.259]</td>\n",
       "</tr>\n",
       "<tr>\n",
       "  <th>beta[1]</th>  <td>    0.8595</td> <td>5.885e-02</td> <td>   14.605</td> <td>2.622e-48</td>  <td>[  0.744,  0.975]</td> \n",
       "</tr>\n",
       "</table><br/><br/>Covariance estimator: robust"
      ],
      "text/plain": [
       "<class 'statsmodels.iolib.summary.Summary'>\n",
       "\"\"\"\n",
       "                     Constant Mean - GARCH Model Results                      \n",
       "==============================================================================\n",
       "Dep. Variable:                      y   R-squared:                       0.000\n",
       "Mean Model:             Constant Mean   Adj. R-squared:                  0.000\n",
       "Vol Model:                      GARCH   Log-Likelihood:               -13624.6\n",
       "Distribution:                  Normal   AIC:                           27257.3\n",
       "Method:            Maximum Likelihood   BIC:                           27282.8\n",
       "                                        No. Observations:                 4379\n",
       "Date:                Sat, Apr 23 2022   Df Residuals:                     4378\n",
       "Time:                        13:07:22   Df Model:                            1\n",
       "                                Mean Model                                \n",
       "==========================================================================\n",
       "                 coef    std err          t      P>|t|    95.0% Conf. Int.\n",
       "--------------------------------------------------------------------------\n",
       "mu            -0.0259  6.143e-02     -0.421      0.674 [ -0.146,9.452e-02]\n",
       "                             Volatility Model                             \n",
       "==========================================================================\n",
       "                 coef    std err          t      P>|t|    95.0% Conf. Int.\n",
       "--------------------------------------------------------------------------\n",
       "omega          0.5873      0.471      1.246      0.213   [ -0.336,  1.511]\n",
       "alpha[1]       0.1405  6.056e-02      2.320  2.033e-02 [2.181e-02,  0.259]\n",
       "beta[1]        0.8595  5.885e-02     14.605  2.622e-48   [  0.744,  0.975]\n",
       "==========================================================================\n",
       "\n",
       "Covariance estimator: robust\n",
       "\"\"\""
      ]
     },
     "execution_count": 171,
     "metadata": {},
     "output_type": "execute_result"
    }
   ],
   "source": [
    "data = dat2E              # Simulated dta\n",
    "\n",
    "\n",
    "model = arch_model(1000*data, p=1, q=1)\n",
    "model_fit = model.fit()\n",
    "model_fit.summary()"
   ]
  },
  {
   "cell_type": "markdown",
   "metadata": {},
   "source": [
    "## Analysis Garch"
   ]
  },
  {
   "cell_type": "markdown",
   "metadata": {},
   "source": [
    "### In sample"
   ]
  },
  {
   "cell_type": "code",
   "execution_count": 111,
   "metadata": {},
   "outputs": [],
   "source": [
    "def estimators(delta):\n",
    "\n",
    "    x = dat2E[:-delta,]\n",
    "    y = dat2E[delta:,]\n",
    "    p = dat2_rtnE[delta:,]\n",
    "    R2 = 0\n",
    "    MSE = 0\n",
    "    MAE = 0\n",
    "    n = 100\n",
    "    omega=5*10**-5\n",
    "    alpha1=0.0295\n",
    "    beta1=0.9702\n",
    "\n",
    "\n",
    "    init = simulategarchdata(delta, omega, alpha1,0, beta1,0)[1]\n",
    "    init = [i/1000 for i in init]\n",
    "    for i in tqdm(range(n)):\n",
    "        y_pred = np.zeros((E,1))\n",
    "        for j in range(E-delta):\n",
    "            if j<delta:\n",
    "                y_pred[j,0] = init[j]\n",
    "            else:\n",
    "                y_pred[j,0] = simulategarchdata(delta, omega, alpha1,0, beta1,0)[1][-1]/1000\n",
    "\n",
    "        #y_pred = simulatedata(b,m0,gamma_kbar,sigma,kbar,E)\n",
    "        p_pred = r2p(p,y_pred,delta)\n",
    "        y_pred = y_pred[delta:,]\n",
    "        R2 += sklearn.metrics.r2_score(y,y_pred)\n",
    "        MSE += sklearn.metrics.mean_squared_error(p,p_pred)\n",
    "        MAE += sklearn.metrics.mean_absolute_error(p,p_pred)\n",
    "\n",
    "\n",
    "    print(\"The R2 value of \" , delta , \" day(s) forcast in log return is: \" , R2/n)\n",
    "    print(\"The MSE value of \" , delta , \" day(s) forcast in price is: \" , MSE/n)\n",
    "    print(\"The MAE value of \" , delta , \" day(s) forcast in price is: \" , MAE/n)"
   ]
  },
  {
   "cell_type": "code",
   "execution_count": 116,
   "metadata": {},
   "outputs": [
    {
     "data": {
      "application/vnd.jupyter.widget-view+json": {
       "model_id": "2c80744a75bb4d6c82b3dc5bc7c2fd66",
       "version_major": 2,
       "version_minor": 0
      },
      "text/plain": [
       "  0%|          | 0/100 [00:00<?, ?it/s]"
      ]
     },
     "metadata": {},
     "output_type": "display_data"
    },
    {
     "name": "stdout",
     "output_type": "stream",
     "text": [
      "The R2 value of  50  day(s) forcast in log return is:  -0.16683941273332514\n",
      "The MSE value of  50  day(s) forcast in price is:  2.469958404277018\n",
      "The MAE value of  50  day(s) forcast in price is:  1.2519505728942633\n"
     ]
    }
   ],
   "source": [
    "estimators(1)\n",
    "estimators(5)\n",
    "estimators(10)\n",
    "estimators(20)\n",
    "estimators(50)"
   ]
  },
  {
   "cell_type": "markdown",
   "metadata": {},
   "source": [
    "### Out of sample"
   ]
  },
  {
   "cell_type": "code",
   "execution_count": 172,
   "metadata": {},
   "outputs": [],
   "source": [
    "def estimators_out(delta):\n",
    "\n",
    "    x = dat2F[:-delta,]\n",
    "    y = dat2F[delta:,]\n",
    "    p = dat2_rtnF[delta:,]\n",
    "    R2 = 0\n",
    "    MSE = 0\n",
    "    MAE = 0\n",
    "    n = 100\n",
    "    omega=0.5873\n",
    "    alpha1=0.1405\n",
    "    beta1=0.8595\n",
    "\n",
    "\n",
    "    init = simulategarchdata(delta, omega, alpha1,0, beta1,0)[1]\n",
    "    init = [i/1000 for i in init]\n",
    "    for i in tqdm(range(n)):\n",
    "        y_pred = np.zeros((T-E,1))\n",
    "        for j in range(T-E-delta):\n",
    "            if j<delta:\n",
    "                y_pred[j,0] = init[j]\n",
    "            else:\n",
    "                y_pred[j,0] = simulategarchdata(delta, omega, alpha1,0, beta1,0)[1][-1]/1000\n",
    "\n",
    "        #y_pred = simulatedata(b,m0,gamma_kbar,sigma,kbar,E)\n",
    "        p_pred = r2p(p,y_pred,delta)\n",
    "        y_pred = y_pred[delta:,]\n",
    "        R2 += sklearn.metrics.r2_score(y,y_pred)\n",
    "        MSE += sklearn.metrics.mean_squared_error(p,p_pred)\n",
    "        MAE += sklearn.metrics.mean_absolute_error(p,p_pred)\n",
    "\n",
    "\n",
    "    print(\"The R2 value of \" , delta , \" day(s) forcast in log return is: \" , R2/n)\n",
    "    print(\"The MSE value of \" , delta , \" day(s) forcast in price is: \" , MSE/n)\n",
    "    print(\"The MAE value of \" , delta , \" day(s) forcast in price is: \" , MAE/n)"
   ]
  },
  {
   "cell_type": "code",
   "execution_count": 177,
   "metadata": {},
   "outputs": [
    {
     "data": {
      "application/vnd.jupyter.widget-view+json": {
       "model_id": "044a0b75ed5c4969be28c75b77ddc26c",
       "version_major": 2,
       "version_minor": 0
      },
      "text/plain": [
       "  0%|          | 0/100 [00:00<?, ?it/s]"
      ]
     },
     "metadata": {},
     "output_type": "display_data"
    },
    {
     "name": "stdout",
     "output_type": "stream",
     "text": [
      "The R2 value of  20  day(s) forcast in log return is:  -0.2471745113134063\n",
      "The MSE value of  20  day(s) forcast in price is:  3.436157552720856\n",
      "The MAE value of  20  day(s) forcast in price is:  1.4642224738295309\n"
     ]
    }
   ],
   "source": [
    "estimators_out(1)\n",
    "estimators_out(5)\n",
    "estimators_out(10)\n",
    "estimators_out(20)\n",
    "estimators_out(50)"
   ]
  }
 ],
 "metadata": {
  "kernelspec": {
   "display_name": "Python 3 (ipykernel)",
   "language": "python",
   "name": "python3"
  },
  "language_info": {
   "codemirror_mode": {
    "name": "ipython",
    "version": 3
   },
   "file_extension": ".py",
   "mimetype": "text/x-python",
   "name": "python",
   "nbconvert_exporter": "python",
   "pygments_lexer": "ipython3",
   "version": "3.9.5"
  }
 },
 "nbformat": 4,
 "nbformat_minor": 4
}
