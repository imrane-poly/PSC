{
 "cells": [
  {
   "cell_type": "markdown",
   "metadata": {},
   "source": [
    "## Initial Setting"
   ]
  },
  {
   "cell_type": "code",
   "execution_count": 2,
   "metadata": {},
   "outputs": [
    {
     "ename": "ModuleNotFoundError",
     "evalue": "No module named 'simulatedata'",
     "output_type": "error",
     "traceback": [
      "\u001b[1;31m---------------------------------------------------------------------------\u001b[0m",
      "\u001b[1;31mModuleNotFoundError\u001b[0m                       Traceback (most recent call last)",
      "Input \u001b[1;32mIn [2]\u001b[0m, in \u001b[0;36m<module>\u001b[1;34m\u001b[0m\n\u001b[0;32m      3\u001b[0m \u001b[38;5;66;03m#import msm\u001b[39;00m\n\u001b[0;32m      4\u001b[0m \u001b[38;5;28;01mimport\u001b[39;00m \u001b[38;5;21;01msklearn\u001b[39;00m\u001b[38;5;21;01m.\u001b[39;00m\u001b[38;5;21;01mmetrics\u001b[39;00m\n\u001b[1;32m----> 5\u001b[0m \u001b[38;5;28;01mfrom\u001b[39;00m \u001b[38;5;21;01msimulatedata\u001b[39;00m \u001b[38;5;28;01mimport\u001b[39;00m simulatedata\n\u001b[0;32m      6\u001b[0m \u001b[38;5;28;01mfrom\u001b[39;00m \u001b[38;5;21;01msimulatedata_initial_state\u001b[39;00m \u001b[38;5;28;01mimport\u001b[39;00m simulatedata_with_initial_prob\n",
      "\u001b[1;31mModuleNotFoundError\u001b[0m: No module named 'simulatedata'"
     ]
    }
   ],
   "source": [
    "import numpy as np\n",
    "import pandas as pd\n",
    "import msm\n",
    "import sklearn.metrics\n",
    "from simulatedata import simulatedata\n",
    "from simulatedata_initial_state import simulatedata_with_initial_prob"
   ]
  },
  {
   "cell_type": "code",
   "execution_count": 6,
   "metadata": {},
   "outputs": [],
   "source": [
    "import numpy as np\n",
    "import pandas as pd\n",
    "import scipy.optimize as opt\n",
    "from scipy import stats\n",
    "from statsmodels import regression\n",
    "import statsmodels.formula.api as sm\n",
    "from numba import jit, njit, prange, float64, int64\n",
    "import os\n",
    "import glob\n",
    "from datetime import datetime, timedelta, date\n",
    "import scipy.stats as stats\n",
    "import statsmodels.api as sm\n",
    "import matplotlib.pyplot as plt\n",
    "import seaborn as sns\n",
    "\n",
    "##utiles pour GARCH\n",
    "from random import gauss\n",
    "from arch import arch_model\n",
    "from statsmodels.graphics.tsaplots import plot_acf, plot_pacf\n",
    "\n",
    "from arch.__future__ import reindexing\n"
   ]
  },
  {
   "cell_type": "markdown",
   "metadata": {},
   "source": [
    "## Data Selection"
   ]
  },
  {
   "cell_type": "code",
   "execution_count": 4,
   "metadata": {},
   "outputs": [
    {
     "data": {
      "text/plain": [
       "((4252, 1), (2835, 1))"
      ]
     },
     "execution_count": 4,
     "metadata": {},
     "output_type": "execute_result"
    }
   ],
   "source": [
    "dat2 = pd.read_csv(\"DEXJPUS_calvet.csv\")                                   \n",
    "dat2 = dat2.loc[dat2.DEXJPUS != \".\"].DEXJPUS.astype(float)\n",
    "dat2 = np.array(dat2)\n",
    "dat2_rtn = dat2[0:-1]\n",
    "dat2 = np.log(dat2[1:])-np.log(dat2[0:-1])\n",
    "dat2 = dat2[dat2 != 0]\n",
    "dat2 = dat2[:,np.newaxis]\n",
    "dat2_rtn = dat2_rtn[:,np.newaxis]\n",
    "T = len(dat2)\n",
    "E = np.rint(0.6*T).astype(int)\n",
    "dat2E = dat2[0:E,]\n",
    "dat2F = dat2[E:,]\n",
    "dat2_rtnE = dat2_rtn[0:E,]\n",
    "dat2_rtnF = dat2_rtn[E:,]\n",
    "dat2E.shape, dat2F.shape"
   ]
  },
  {
   "cell_type": "markdown",
   "metadata": {},
   "source": [
    "## Estimate Parameter"
   ]
  },
  {
   "cell_type": "code",
   "execution_count": 19,
   "metadata": {},
   "outputs": [
    {
     "ename": "NameError",
     "evalue": "name 'msm' is not defined",
     "output_type": "error",
     "traceback": [
      "\u001b[1;31m---------------------------------------------------------------------------\u001b[0m",
      "\u001b[1;31mNameError\u001b[0m                                 Traceback (most recent call last)",
      "Input \u001b[1;32mIn [19]\u001b[0m, in \u001b[0;36m<module>\u001b[1;34m\u001b[0m\n\u001b[0;32m      4\u001b[0m temperature \u001b[38;5;241m=\u001b[39m \u001b[38;5;241m1.0\u001b[39m\n\u001b[0;32m      5\u001b[0m stepsize \u001b[38;5;241m=\u001b[39m \u001b[38;5;241m1.0\u001b[39m\n\u001b[1;32m----> 7\u001b[0m parameters, LL, niter, output \u001b[38;5;241m=\u001b[39m \u001b[43mmsm\u001b[49m\u001b[38;5;241m.\u001b[39mglo_min(kbar, data, niter, temperature, stepsize)\n\u001b[0;32m      9\u001b[0m \u001b[38;5;66;03m# name parameters for later use:\u001b[39;00m\n\u001b[0;32m     10\u001b[0m b_sim \u001b[38;5;241m=\u001b[39m parameters[\u001b[38;5;241m0\u001b[39m]\n",
      "\u001b[1;31mNameError\u001b[0m: name 'msm' is not defined"
     ]
    }
   ],
   "source": [
    "data = dat2E               # Simulated dta\n",
    "kbar = 4\n",
    "niter = 1\n",
    "temperature = 1.0\n",
    "stepsize = 1.0\n",
    "\n",
    "parameters, LL, niter, output = msm.glo_min(kbar, data, niter, temperature, stepsize)\n",
    "\n",
    "# name parameters for later use:\n",
    "b_sim = parameters[0]\n",
    "m_0_sim = parameters[1]\n",
    "gamma_kbar_sim = parameters[2]\n",
    "sigma_sim = parameters[3]\n",
    "LL_sim = LL\n",
    "\n",
    "print(\"Parameters from glo_min for Simulated dataset: \", \"\\n\"\n",
    "      \"kbar = \", kbar,\"\\n\"\n",
    "      'b = %.5f' % b_sim,\"\\n\"\n",
    "      'm_0 = %.5f' % m_0_sim,\"\\n\"\n",
    "      'gamma_kbar = %.5f' % gamma_kbar_sim,\"\\n\"\n",
    "      'sigma = %.5f' % (sigma_sim*np.sqrt(252)),\"\\n\"\n",
    "      'Likelihood = %.5f' % LL_sim,\"\\n\"\n",
    "      \"niter = \" , niter,\"\\n\"\n",
    "      \"output = \" , output,\"\\n\")"
   ]
  },
  {
   "cell_type": "code",
   "execution_count": 21,
   "metadata": {},
   "outputs": [
    {
     "ename": "NameError",
     "evalue": "name 'parameters' is not defined",
     "output_type": "error",
     "traceback": [
      "\u001b[1;31m---------------------------------------------------------------------------\u001b[0m",
      "\u001b[1;31mNameError\u001b[0m                                 Traceback (most recent call last)",
      "Input \u001b[1;32mIn [21]\u001b[0m, in \u001b[0;36m<module>\u001b[1;34m\u001b[0m\n\u001b[1;32m----> 1\u001b[0m b \u001b[38;5;241m=\u001b[39m \u001b[43mparameters\u001b[49m[\u001b[38;5;241m0\u001b[39m]\n\u001b[0;32m      2\u001b[0m m0 \u001b[38;5;241m=\u001b[39m parameters[\u001b[38;5;241m1\u001b[39m]\n\u001b[0;32m      3\u001b[0m gamma_kbar \u001b[38;5;241m=\u001b[39m parameters[\u001b[38;5;241m2\u001b[39m]\n",
      "\u001b[1;31mNameError\u001b[0m: name 'parameters' is not defined"
     ]
    }
   ],
   "source": [
    "b = parameters[0]\n",
    "m0 = parameters[1]\n",
    "gamma_kbar = parameters[2]\n",
    "sigma = parameters[3]\n",
    "\n",
    "theta_in = [b, gamma_kbar, sigma]"
   ]
  },
  {
   "cell_type": "markdown",
   "metadata": {},
   "source": [
    "## Analysis Garch(2,2)"
   ]
  },
  {
   "cell_type": "code",
   "execution_count": null,
   "metadata": {},
   "outputs": [],
   "source": []
  },
  {
   "cell_type": "code",
   "execution_count": null,
   "metadata": {},
   "outputs": [],
   "source": []
  },
  {
   "cell_type": "code",
   "execution_count": 48,
   "metadata": {},
   "outputs": [],
   "source": [
    "def simulategarchdata(T, omega, alpha1,alpha2, beta1, beta2):\n",
    "    n = T\n",
    "\n",
    "    test_size = int(n*0.1)\n",
    "\n",
    "    series = [gauss(0,1), gauss(0,1)]\n",
    "    vols = [1, 1]\n",
    "\n",
    "    for _ in range(n-2):\n",
    "        new_vol = np.sqrt(omega + alpha1*series[-1]**2 + alpha2*series[-2]**2 + beta1*vols[-1]**2 + beta2*vols[-2]**2)\n",
    "        new_val = gauss(0,1) * new_vol\n",
    "\n",
    "        vols.append(new_vol)\n",
    "        series.append(new_val)\n",
    "    return np.array([vols,series])\n",
    "\n",
    "## rt est donné par simulateagarchdata[10]"
   ]
  },
  {
   "cell_type": "markdown",
   "metadata": {},
   "source": [
    "### in sample"
   ]
  },
  {
   "cell_type": "code",
   "execution_count": 15,
   "metadata": {},
   "outputs": [
    {
     "name": "stdout",
     "output_type": "stream",
     "text": [
      "Iteration:      1,   Func. Count:      6,   Neg. LLF: 470928971739.7442\n",
      "Iteration:      2,   Func. Count:     20,   Neg. LLF: 35708607.506961875\n",
      "Optimization terminated successfully    (Exit mode 0)\n",
      "            Current function value: -15924.709313884381\n",
      "            Iterations: 2\n",
      "            Function evaluations: 29\n",
      "            Gradient evaluations: 2\n"
     ]
    },
    {
     "data": {
      "text/html": [
       "<table class=\"simpletable\">\n",
       "<caption>Constant Mean - GARCH Model Results</caption>\n",
       "<tr>\n",
       "  <th>Dep. Variable:</th>          <td>y</td>         <th>  R-squared:         </th>  <td>   0.000</td> \n",
       "</tr>\n",
       "<tr>\n",
       "  <th>Mean Model:</th>       <td>Constant Mean</td>   <th>  Adj. R-squared:    </th>  <td>   0.000</td> \n",
       "</tr>\n",
       "<tr>\n",
       "  <th>Vol Model:</th>            <td>GARCH</td>       <th>  Log-Likelihood:    </th> <td>   15924.7</td>\n",
       "</tr>\n",
       "<tr>\n",
       "  <th>Distribution:</th>        <td>Normal</td>       <th>  AIC:               </th> <td>  -31841.4</td>\n",
       "</tr>\n",
       "<tr>\n",
       "  <th>Method:</th>        <td>Maximum Likelihood</td> <th>  BIC:               </th> <td>  -31816.0</td>\n",
       "</tr>\n",
       "<tr>\n",
       "  <th></th>                        <td></td>          <th>  No. Observations:  </th>    <td>4242</td>   \n",
       "</tr>\n",
       "<tr>\n",
       "  <th>Date:</th>           <td>Wed, Apr 06 2022</td>  <th>  Df Residuals:      </th>    <td>4241</td>   \n",
       "</tr>\n",
       "<tr>\n",
       "  <th>Time:</th>               <td>09:54:32</td>      <th>  Df Model:          </th>      <td>1</td>    \n",
       "</tr>\n",
       "</table>\n",
       "<table class=\"simpletable\">\n",
       "<caption>Mean Model</caption>\n",
       "<tr>\n",
       "   <td></td>     <th>coef</th>      <th>std err</th>      <th>t</th>       <th>P>|t|</th>      <th>95.0% Conf. Int.</th>    \n",
       "</tr>\n",
       "<tr>\n",
       "  <th>mu</th> <td>-5.9418e-05</td> <td>6.041e-06</td> <td>   -9.837</td> <td>7.836e-23</td> <td>[-7.126e-05,-4.758e-05]</td>\n",
       "</tr>\n",
       "</table>\n",
       "<table class=\"simpletable\">\n",
       "<caption>Volatility Model</caption>\n",
       "<tr>\n",
       "      <td></td>        <th>coef</th>     <th>std err</th>      <th>t</th>       <th>P>|t|</th>     <th>95.0% Conf. Int.</th>   \n",
       "</tr>\n",
       "<tr>\n",
       "  <th>omega</th>    <td>7.8368e-07</td> <td>5.373e-12</td> <td>1.458e+05</td>   <td>0.000</td>   <td>[7.837e-07,7.837e-07]</td>\n",
       "</tr>\n",
       "<tr>\n",
       "  <th>alpha[1]</th> <td>    0.1000</td> <td>1.625e-02</td> <td>    6.154</td> <td>7.570e-10</td>  <td>[6.815e-02,  0.132]</td> \n",
       "</tr>\n",
       "<tr>\n",
       "  <th>beta[1]</th>  <td>    0.8800</td> <td>1.583e-02</td> <td>   55.594</td>   <td>0.000</td>     <td>[  0.849,  0.911]</td>  \n",
       "</tr>\n",
       "</table><br/><br/>Covariance estimator: robust"
      ],
      "text/plain": [
       "<class 'statsmodels.iolib.summary.Summary'>\n",
       "\"\"\"\n",
       "                     Constant Mean - GARCH Model Results                      \n",
       "==============================================================================\n",
       "Dep. Variable:                      y   R-squared:                       0.000\n",
       "Mean Model:             Constant Mean   Adj. R-squared:                  0.000\n",
       "Vol Model:                      GARCH   Log-Likelihood:                15924.7\n",
       "Distribution:                  Normal   AIC:                          -31841.4\n",
       "Method:            Maximum Likelihood   BIC:                          -31816.0\n",
       "                                        No. Observations:                 4242\n",
       "Date:                Wed, Apr 06 2022   Df Residuals:                     4241\n",
       "Time:                        09:54:32   Df Model:                            1\n",
       "                                   Mean Model                                  \n",
       "===============================================================================\n",
       "                  coef    std err          t      P>|t|        95.0% Conf. Int.\n",
       "-------------------------------------------------------------------------------\n",
       "mu         -5.9418e-05  6.041e-06     -9.837  7.836e-23 [-7.126e-05,-4.758e-05]\n",
       "                              Volatility Model                              \n",
       "============================================================================\n",
       "                 coef    std err          t      P>|t|      95.0% Conf. Int.\n",
       "----------------------------------------------------------------------------\n",
       "omega      7.8368e-07  5.373e-12  1.458e+05      0.000 [7.837e-07,7.837e-07]\n",
       "alpha[1]       0.1000  1.625e-02      6.154  7.570e-10   [6.815e-02,  0.132]\n",
       "beta[1]        0.8800  1.583e-02     55.594      0.000     [  0.849,  0.911]\n",
       "============================================================================\n",
       "\n",
       "Covariance estimator: robust\n",
       "\"\"\""
      ]
     },
     "execution_count": 15,
     "metadata": {},
     "output_type": "execute_result"
    }
   ],
   "source": [
    "delta = 10\n",
    "train, test = dat2E[:-delta], dat2E[-delta:]\n",
    "model = arch_model(train, p=1, q=1, rescale=False)\n",
    "model_fit = model.fit()\n",
    "model_fit.summary()"
   ]
  },
  {
   "cell_type": "code",
   "execution_count": 57,
   "metadata": {},
   "outputs": [
    {
     "name": "stdout",
     "output_type": "stream",
     "text": [
      "[ 1.37901363e-01 -8.28103515e-01  1.07320090e+00 ... -4.44235438e-04\n",
      "  4.72526371e-03 -5.54044611e-03]\n",
      "[[ 0.00052808]\n",
      " [-0.00764663]\n",
      " [ 0.00791057]\n",
      " ...\n",
      " [-0.00140834]\n",
      " [ 0.0045309 ]\n",
      " [ 0.0060611 ]]\n"
     ]
    },
    {
     "data": {
      "text/plain": [
       "(-1944218.4645521068, 0.025048445600397366)"
      ]
     },
     "execution_count": 57,
     "metadata": {},
     "output_type": "execute_result"
    }
   ],
   "source": [
    "x = dat2E[:-delta,]\n",
    "y = dat2E[delta:,]\n",
    "\n",
    "y_pred = simulategarchdata(len(y), 7.8e-7,0.1,0,0.88,0)\n",
    "print(y_pred[1])\n",
    "print((y))\n",
    "\n",
    "R2 = sklearn.metrics.r2_score(y**2,y_pred[1]**2)\n",
    "MSE = sklearn.metrics.mean_squared_error(y**2,y_pred[1]**2)\n",
    "R2,MSE"
   ]
  },
  {
   "cell_type": "markdown",
   "metadata": {},
   "source": [
    "## Analysis MSM Binomial"
   ]
  },
  {
   "cell_type": "markdown",
   "metadata": {},
   "source": [
    "### in sample"
   ]
  },
  {
   "cell_type": "code",
   "execution_count": null,
   "metadata": {},
   "outputs": [],
   "source": [
    "delta = 10\n",
    "x = dat2E[:-delta,]\n",
    "y = dat2E[delta:,]\n",
    "\n",
    "y_pred = simulatedata(b,m0,gamma_kbar,sigma,kbar,E-delta)\n",
    "\n",
    "R2 = sklearn.metrics.r2_score(y**2,y_pred**2)\n",
    "MSE = sklearn.metrics.mean_squared_error(y**2,y_pred**2)\n",
    "R2,MSE"
   ]
  },
  {
   "cell_type": "markdown",
   "metadata": {},
   "source": [
    "### out of sample"
   ]
  },
  {
   "cell_type": "code",
   "execution_count": null,
   "metadata": {},
   "outputs": [],
   "source": [
    "delta = 10\n",
    "x = dat2F[:-delta,]\n",
    "y = dat2F[delta:,]\n",
    "y_pred = simulatedata(b,m0,gamma_kbar,sigma,kbar,T-E-delta)\n",
    "R2 = sklearn.metrics.r2_score(y**2,y_pred**2)\n",
    "MSE = sklearn.metrics.mean_squared_error(y**2,y_pred**2)\n",
    "R2,MSE"
   ]
  },
  {
   "cell_type": "markdown",
   "metadata": {},
   "source": [
    "## Analysis MSM initial state"
   ]
  },
  {
   "cell_type": "markdown",
   "metadata": {},
   "source": [
    "### in sample"
   ]
  },
  {
   "cell_type": "code",
   "execution_count": null,
   "metadata": {},
   "outputs": [],
   "source": [
    "delta = 1\n",
    "x = dat2E[:-delta,]\n",
    "y = dat2E[delta:,]\n",
    "\n",
    "y_pred = np.zeros((E-delta,1))\n",
    "for i in range(E-delta):\n",
    "    prob=msm.g_pi_t(m0, kbar, x[:i+1,], theta_in)\n",
    "    y_pred[i,0] = simulatedata_with_initial_prob(b,m0,gamma_kbar,sigma,kbar,prob,1)[0]\n",
    "\n",
    "R2 = sklearn.metrics.r2_score(y**2,y_pred**2)\n",
    "MSE = sklearn.metrics.mean_squared_error(y**2,y_pred**2)\n",
    "R2,MSE"
   ]
  },
  {
   "cell_type": "markdown",
   "metadata": {},
   "source": [
    "### out of sample"
   ]
  },
  {
   "cell_type": "code",
   "execution_count": null,
   "metadata": {},
   "outputs": [],
   "source": [
    "delta = 1\n",
    "x = dat2F[:-delta,]\n",
    "y = dat2F[delta:,]\n",
    "\n",
    "y_pred = np.zeros((T-E-delta,1))\n",
    "for i in range(T-E-delta):\n",
    "    prob=msm.g_pi_t(m0, kbar, x[:i+1,], theta_in)\n",
    "    y_pred[i,0] = simulatedata_with_initial_prob(b,m0,gamma_kbar,sigma,kbar,prob,1)[0]\n",
    "\n",
    "R2 = sklearn.metrics.r2_score(y**2,y_pred**2)\n",
    "MSE = sklearn.metrics.mean_squared_error(y**2,y_pred**2)\n",
    "R2,MSE"
   ]
  }
 ],
 "metadata": {
  "kernelspec": {
   "display_name": "Python 3 (ipykernel)",
   "language": "python",
   "name": "python3"
  },
  "language_info": {
   "codemirror_mode": {
    "name": "ipython",
    "version": 3
   },
   "file_extension": ".py",
   "mimetype": "text/x-python",
   "name": "python",
   "nbconvert_exporter": "python",
   "pygments_lexer": "ipython3",
   "version": "3.9.5"
  }
 },
 "nbformat": 4,
 "nbformat_minor": 4
}
