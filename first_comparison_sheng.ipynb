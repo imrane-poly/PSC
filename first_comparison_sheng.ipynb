{
 "cells": [
  {
   "cell_type": "code",
   "execution_count": 2,
   "id": "32e093fc",
   "metadata": {},
   "outputs": [],
   "source": [
    "import numpy as np\n",
    "import pandas as pd\n",
    "import scipy.optimize as opt\n",
    "from scipy import stats\n",
    "from statsmodels import regression\n",
    "import statsmodels.formula.api as sm\n",
    "from numba import jit, njit, prange, float64, int64\n",
    "import os\n",
    "import glob\n",
    "from datetime import datetime, timedelta, date\n",
    "import scipy.stats as stats\n",
    "import statsmodels.api as sm\n",
    "import matplotlib.pyplot as plt\n",
    "import seaborn as sns\n",
    "\n",
    "##utiles pour GARCH\n",
    "from random import gauss\n",
    "from arch import arch_model\n",
    "from statsmodels.graphics.tsaplots import plot_acf, plot_pacf\n",
    "\n",
    "from arch.__future__ import reindexing\n"
   ]
  },
  {
   "cell_type": "code",
   "execution_count": 3,
   "id": "398009f8",
   "metadata": {},
   "outputs": [
    {
     "name": "stdout",
     "output_type": "stream",
     "text": [
      "dat2\n",
      "[357.73 357.81 357.86 ... 115.87 116.05 117.08]\n",
      "dat3\n",
      "[117.74 117.92 117.47 ... 115.87 116.05 117.08]\n"
     ]
    },
    {
     "data": {
      "text/plain": [
       "((8013, 1), (4435, 1), (2402, 1), (1402, 1))"
      ]
     },
     "execution_count": 3,
     "metadata": {},
     "output_type": "execute_result"
    }
   ],
   "source": [
    "\n",
    "# Set kbar\n",
    "kbar = 4\n",
    "\n",
    "# Simulated data, 60% in-sample for estimation, 40% out-of-sample for forecasts.  See Section 4 re rationale for simulated data\n",
    "b = 6\n",
    "m0 = 1.6\n",
    "gamma_kbar = 0.8\n",
    "sig = 2/np.sqrt(252)    \n",
    "\n",
    "dat1=pd.read_csv(\"DEXJPUS_calvet.csv\")\n",
    "\n",
    "\n",
    "\n",
    "# DEXJPUS, 60% in-sample for estimation, 40% out-of-sample for forecasts\n",
    "dat2 = pd.read_csv(\"DEXJPUS 1971-2022.csv\")    #on récupère les données du fichier CSV\n",
    "T = len(dat2)\n",
    "\n",
    "E = np.rint(0.6*T).astype(int) \n",
    "\n",
    "##dat1 = simulatedata(b,m0,gamma_kbar,sig,kbar,T)\n",
    "##dat1E = dat1[0:E,]\n",
    "##dat1F = dat1[E:,]\n",
    "\n",
    "test_size=T//10\n",
    "dat2 = dat2.loc[dat2.DEXJPUS != \".\"].DEXJPUS.astype(float) #on ne garde que la colonne DEXJPUS (pas la colonne des dates)\n",
    "dat2 = np.array(dat2) \n",
    "print(\"dat2\")\n",
    "print(dat2)\n",
    "dat2_rtn = dat2[0:-1]#on enlève le dernier élément       #ca a l'air inutile\n",
    "dat2 = np.log(dat2[1:])-np.log(dat2[0:-1]) # liste des log-return\n",
    "dat2 = dat2[dat2 != 0]\n",
    "dat2 = dat2[:,np.newaxis]#rajoute une dimension au vecteur\n",
    "dat2E = dat2[0:E,]\n",
    "dat2F = dat2[E:,]\n",
    "\n",
    "dat3 = pd.read_csv(\"DEXJPUS 2006-2022.csv\")    #on récupère les données du fichier CSV\n",
    "T_=len(dat3)\n",
    "test_size_=T_//10\n",
    "dat3 = dat3.loc[dat3.DEXJPUS != \".\"].DEXJPUS.astype(float) #on ne garde que la colonne DEXJPUS (pas la colonne des dates)\n",
    "dat3 = np.array(dat3) \n",
    "print(\"dat3\")\n",
    "print(dat3)\n",
    "dat3_rtn = dat3[0:-1]#on enlève le dernier élément       #ca a l'air inutile\n",
    "dat3 = np.log(dat3[1:])-np.log(dat3[0:-1]) # liste des log-return\n",
    "dat3 = dat3[dat3 != 0]\n",
    "dat3 = dat3[:,np.newaxis]#rajoute une dimension au vecteur\n",
    "E_=np.rint(0.6*T_).astype(int)\n",
    "dat3E = dat3[0:E_,]  ##s'en servir pour vérifier la qualité de nos prévisions\n",
    "dat3F = dat3[E_:,]\n",
    "\n",
    "\n",
    "##dat1E.shape, dat1F.shape, \n",
    "dat2E.shape, dat2F.shape, dat3E.shape, dat3F.shape\n"
   ]
  }
 ],
 "metadata": {
  "kernelspec": {
   "display_name": "Python 3 (ipykernel)",
   "language": "python",
   "name": "python3"
  },
  "language_info": {
   "codemirror_mode": {
    "name": "ipython",
    "version": 3
   },
   "file_extension": ".py",
   "mimetype": "text/x-python",
   "name": "python",
   "nbconvert_exporter": "python",
   "pygments_lexer": "ipython3",
   "version": "3.9.5"
  }
 },
 "nbformat": 4,
 "nbformat_minor": 5
}
